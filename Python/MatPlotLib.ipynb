{
  "nbformat": 4,
  "nbformat_minor": 0,
  "metadata": {
    "colab": {
      "name": "MatPlotLib.ipynb",
      "provenance": [],
      "collapsed_sections": [],
      "include_colab_link": true
    },
    "kernelspec": {
      "name": "python3",
      "display_name": "Python 3"
    },
    "language_info": {
      "name": "python"
    }
  },
  "cells": [
    {
      "cell_type": "markdown",
      "metadata": {
        "id": "view-in-github",
        "colab_type": "text"
      },
      "source": [
        "<a href=\"https://colab.research.google.com/github/paggiLuca/Python/blob/main/MatPlotLib.ipynb\" target=\"_parent\"><img src=\"https://colab.research.google.com/assets/colab-badge.svg\" alt=\"Open In Colab\"/></a>"
      ]
    },
    {
      "cell_type": "markdown",
      "metadata": {
        "id": "JYF1MeM28au4"
      },
      "source": [
        "#inizio matplotlib"
      ]
    },
    {
      "cell_type": "markdown",
      "metadata": {
        "id": "VAMWTBUP8aDB"
      },
      "source": [
        "Installare le librerie necessarie"
      ]
    },
    {
      "cell_type": "code",
      "metadata": {
        "id": "NFpT5lLE8Q1L"
      },
      "source": [
        "import pandas as pd\n",
        "import matplotlib.pyplot as plt\n",
        "\n",
        "import numpy as np"
      ],
      "execution_count": null,
      "outputs": []
    },
    {
      "cell_type": "markdown",
      "metadata": {
        "id": "BXrPSPdc9Kg-"
      },
      "source": [
        "Creare un grafico a barre #Metodo .bar"
      ]
    },
    {
      "cell_type": "code",
      "metadata": {
        "colab": {
          "base_uri": "https://localhost:8080/",
          "height": 282
        },
        "id": "rZhJnqhg85fk",
        "outputId": "f7ad42a3-80d2-4471-88e7-10f0e5c63e51"
      },
      "source": [
        "alt = [100,200,300,400,500]\n",
        "sin = [0,10,20,30,40]\n",
        "plt.bar(sin,alt)"
      ],
      "execution_count": null,
      "outputs": [
        {
          "output_type": "execute_result",
          "data": {
            "text/plain": [
              "<BarContainer object of 5 artists>"
            ]
          },
          "metadata": {},
          "execution_count": 2
        },
        {
          "output_type": "display_data",
          "data": {
            "image/png": "[encoded data removed]",
            "text/plain": [
              "<Figure size 432x288 with 1 Axes>"
            ]
          },
          "metadata": {
            "needs_background": "light"
          }
        }
      ]
    },
    {
      "cell_type": "markdown",
      "metadata": {
        "id": "R3hRLdQO9v0l"
      },
      "source": [
        "Grafico a torta metodo .pie"
      ]
    },
    {
      "cell_type": "code",
      "metadata": {
        "colab": {
          "base_uri": "https://localhost:8080/",
          "height": 248
        },
        "id": "GW7x520n9jvW",
        "outputId": "82c407b0-cce6-4869-9a05-aa618a717539"
      },
      "source": [
        "val = [20,60,80,40]\n",
        "plt.pie(val)\n",
        "plt.show()"
      ],
      "execution_count": null,
      "outputs": [
        {
          "output_type": "display_data",
          "data": {
            "image/png": "[encoded data removed]",
            "text/plain": [
              "<Figure size 432x288 with 1 Axes>"
            ]
          },
          "metadata": {}
        }
      ]
    },
    {
      "cell_type": "code",
      "metadata": {
        "colab": {
          "base_uri": "https://localhost:8080/",
          "height": 424
        },
        "id": "3D7s9aqH-QFk",
        "outputId": "e79e2acc-26b2-425a-fe21-300a89d50b4d"
      },
      "source": [
        "df = pd.read_csv(\"https://raw.githubusercontent.com/italia/covid19-opendata-vaccini/master/dati/consegne-vaccini-latest.csv\")\n",
        "df"
      ],
      "execution_count": null,
      "outputs": [
        {
          "output_type": "execute_result",
          "data": {
            "text/html": [
              "<div>\n",
              "<style scoped>\n",
              "    .dataframe tbody tr th:only-of-type {\n",
              "        vertical-align: middle;\n",
              "    }\n",
              "\n",
              "    .dataframe tbody tr th {\n",
              "        vertical-align: top;\n",
              "    }\n",
              "\n",
              "    .dataframe thead th {\n",
              "        text-align: right;\n",
              "    }\n",
              "</style>\n",
              "<table border=\"1\" class=\"dataframe\">\n",
              "  <thead>\n",
              "    <tr style=\"text-align: right;\">\n",
              "      <th></th>\n",
              "      <th>area</th>\n",
              "      <th>fornitore</th>\n",
              "      <th>numero_dosi</th>\n",
              "      <th>data_consegna</th>\n",
              "      <th>codice_NUTS1</th>\n",
              "      <th>codice_NUTS2</th>\n",
              "      <th>codice_regione_ISTAT</th>\n",
              "      <th>nome_area</th>\n",
              "    </tr>\n",
              "  </thead>\n",
              "  <tbody>\n",
              "    <tr>\n",
              "      <th>0</th>\n",
              "      <td>ABR</td>\n",
              "      <td>Pfizer/BioNTech</td>\n",
              "      <td>135</td>\n",
              "      <td>2020-12-27</td>\n",
              "      <td>ITF</td>\n",
              "      <td>ITF1</td>\n",
              "      <td>13</td>\n",
              "      <td>Abruzzo</td>\n",
              "    </tr>\n",
              "    <tr>\n",
              "      <th>1</th>\n",
              "      <td>ABR</td>\n",
              "      <td>Pfizer/BioNTech</td>\n",
              "      <td>7800</td>\n",
              "      <td>2020-12-30</td>\n",
              "      <td>ITF</td>\n",
              "      <td>ITF1</td>\n",
              "      <td>13</td>\n",
              "      <td>Abruzzo</td>\n",
              "    </tr>\n",
              "    <tr>\n",
              "      <th>2</th>\n",
              "      <td>ABR</td>\n",
              "      <td>Pfizer/BioNTech</td>\n",
              "      <td>3900</td>\n",
              "      <td>2021-01-05</td>\n",
              "      <td>ITF</td>\n",
              "      <td>ITF1</td>\n",
              "      <td>13</td>\n",
              "      <td>Abruzzo</td>\n",
              "    </tr>\n",
              "    <tr>\n",
              "      <th>3</th>\n",
              "      <td>ABR</td>\n",
              "      <td>Pfizer/BioNTech</td>\n",
              "      <td>3900</td>\n",
              "      <td>2021-01-07</td>\n",
              "      <td>ITF</td>\n",
              "      <td>ITF1</td>\n",
              "      <td>13</td>\n",
              "      <td>Abruzzo</td>\n",
              "    </tr>\n",
              "    <tr>\n",
              "      <th>4</th>\n",
              "      <td>ABR</td>\n",
              "      <td>Pfizer/BioNTech</td>\n",
              "      <td>3900</td>\n",
              "      <td>2021-01-11</td>\n",
              "      <td>ITF</td>\n",
              "      <td>ITF1</td>\n",
              "      <td>13</td>\n",
              "      <td>Abruzzo</td>\n",
              "    </tr>\n",
              "    <tr>\n",
              "      <th>...</th>\n",
              "      <td>...</td>\n",
              "      <td>...</td>\n",
              "      <td>...</td>\n",
              "      <td>...</td>\n",
              "      <td>...</td>\n",
              "      <td>...</td>\n",
              "      <td>...</td>\n",
              "      <td>...</td>\n",
              "    </tr>\n",
              "    <tr>\n",
              "      <th>5272</th>\n",
              "      <td>VEN</td>\n",
              "      <td>Moderna</td>\n",
              "      <td>-1200</td>\n",
              "      <td>2021-10-11</td>\n",
              "      <td>ITH</td>\n",
              "      <td>ITH3</td>\n",
              "      <td>5</td>\n",
              "      <td>Veneto</td>\n",
              "    </tr>\n",
              "    <tr>\n",
              "      <th>5273</th>\n",
              "      <td>VEN</td>\n",
              "      <td>Moderna</td>\n",
              "      <td>1</td>\n",
              "      <td>2021-10-13</td>\n",
              "      <td>ITH</td>\n",
              "      <td>ITH3</td>\n",
              "      <td>5</td>\n",
              "      <td>Veneto</td>\n",
              "    </tr>\n",
              "    <tr>\n",
              "      <th>5274</th>\n",
              "      <td>VEN</td>\n",
              "      <td>Moderna</td>\n",
              "      <td>8</td>\n",
              "      <td>2021-10-14</td>\n",
              "      <td>ITH</td>\n",
              "      <td>ITH3</td>\n",
              "      <td>5</td>\n",
              "      <td>Veneto</td>\n",
              "    </tr>\n",
              "    <tr>\n",
              "      <th>5275</th>\n",
              "      <td>VEN</td>\n",
              "      <td>Pfizer/BioNTech</td>\n",
              "      <td>4</td>\n",
              "      <td>2021-10-15</td>\n",
              "      <td>ITH</td>\n",
              "      <td>ITH3</td>\n",
              "      <td>5</td>\n",
              "      <td>Veneto</td>\n",
              "    </tr>\n",
              "    <tr>\n",
              "      <th>5276</th>\n",
              "      <td>VEN</td>\n",
              "      <td>Moderna</td>\n",
              "      <td>5</td>\n",
              "      <td>2021-11-11</td>\n",
              "      <td>ITH</td>\n",
              "      <td>ITH3</td>\n",
              "      <td>5</td>\n",
              "      <td>Veneto</td>\n",
              "    </tr>\n",
              "  </tbody>\n",
              "</table>\n",
              "<p>5277 rows × 8 columns</p>\n",
              "</div>"
            ],
            "text/plain": [
              "     area        fornitore  ...  codice_regione_ISTAT nome_area\n",
              "0     ABR  Pfizer/BioNTech  ...                    13   Abruzzo\n",
              "1     ABR  Pfizer/BioNTech  ...                    13   Abruzzo\n",
              "2     ABR  Pfizer/BioNTech  ...                    13   Abruzzo\n",
              "3     ABR  Pfizer/BioNTech  ...                    13   Abruzzo\n",
              "4     ABR  Pfizer/BioNTech  ...                    13   Abruzzo\n",
              "...   ...              ...  ...                   ...       ...\n",
              "5272  VEN          Moderna  ...                     5    Veneto\n",
              "5273  VEN          Moderna  ...                     5    Veneto\n",
              "5274  VEN          Moderna  ...                     5    Veneto\n",
              "5275  VEN  Pfizer/BioNTech  ...                     5    Veneto\n",
              "5276  VEN          Moderna  ...                     5    Veneto\n",
              "\n",
              "[5277 rows x 8 columns]"
            ]
          },
          "metadata": {},
          "execution_count": 4
        }
      ]
    },
    {
      "cell_type": "markdown",
      "metadata": {
        "id": "wHBP8NGd_zig"
      },
      "source": [
        "#Colab + MatPlotLib"
      ]
    },
    {
      "cell_type": "markdown",
      "metadata": {
        "id": "ATxErrCJ_6dg"
      },
      "source": [
        "Rappresentare quante doti sono state consegnate per ogni regione."
      ]
    },
    {
      "cell_type": "code",
      "metadata": {
        "id": "MPOKV9BN_zVx"
      },
      "source": [
        "data = df.groupby('nome_area').sum().sort_values('numero_dosi' , ascending = False)\n",
        "\n",
        "names = list(data.index)\n",
        "values = list(data['numero_dosi'])\n",
        "max_value = data.sort_values('numero_dosi' , ascending = False)['numero_dosi']"
      ],
      "execution_count": null,
      "outputs": []
    },
    {
      "cell_type": "code",
      "metadata": {
        "colab": {
          "base_uri": "https://localhost:8080/",
          "height": 739
        },
        "id": "VLyWovQZA0yn",
        "outputId": "e96dc99c-8e28-4ae1-cea2-b0b5a9e54f44"
      },
      "source": [
        "data"
      ],
      "execution_count": null,
      "outputs": [
        {
          "output_type": "execute_result",
          "data": {
            "text/html": [
              "<div>\n",
              "<style scoped>\n",
              "    .dataframe tbody tr th:only-of-type {\n",
              "        vertical-align: middle;\n",
              "    }\n",
              "\n",
              "    .dataframe tbody tr th {\n",
              "        vertical-align: top;\n",
              "    }\n",
              "\n",
              "    .dataframe thead th {\n",
              "        text-align: right;\n",
              "    }\n",
              "</style>\n",
              "<table border=\"1\" class=\"dataframe\">\n",
              "  <thead>\n",
              "    <tr style=\"text-align: right;\">\n",
              "      <th></th>\n",
              "      <th>numero_dosi</th>\n",
              "      <th>codice_regione_ISTAT</th>\n",
              "    </tr>\n",
              "    <tr>\n",
              "      <th>nome_area</th>\n",
              "      <th></th>\n",
              "      <th></th>\n",
              "    </tr>\n",
              "  </thead>\n",
              "  <tbody>\n",
              "    <tr>\n",
              "      <th>Lombardia</th>\n",
              "      <td>17274689</td>\n",
              "      <td>792</td>\n",
              "    </tr>\n",
              "    <tr>\n",
              "      <th>Lazio</th>\n",
              "      <td>10332724</td>\n",
              "      <td>10632</td>\n",
              "    </tr>\n",
              "    <tr>\n",
              "      <th>Campania</th>\n",
              "      <td>9179717</td>\n",
              "      <td>6465</td>\n",
              "    </tr>\n",
              "    <tr>\n",
              "      <th>Veneto</th>\n",
              "      <td>8088672</td>\n",
              "      <td>955</td>\n",
              "    </tr>\n",
              "    <tr>\n",
              "      <th>Sicilia</th>\n",
              "      <td>7649473</td>\n",
              "      <td>4408</td>\n",
              "    </tr>\n",
              "    <tr>\n",
              "      <th>Emilia-Romagna</th>\n",
              "      <td>7329514</td>\n",
              "      <td>1680</td>\n",
              "    </tr>\n",
              "    <tr>\n",
              "      <th>Piemonte</th>\n",
              "      <td>7131660</td>\n",
              "      <td>241</td>\n",
              "    </tr>\n",
              "    <tr>\n",
              "      <th>Puglia</th>\n",
              "      <td>6876223</td>\n",
              "      <td>5904</td>\n",
              "    </tr>\n",
              "    <tr>\n",
              "      <th>Toscana</th>\n",
              "      <td>6257245</td>\n",
              "      <td>2286</td>\n",
              "    </tr>\n",
              "    <tr>\n",
              "      <th>Calabria</th>\n",
              "      <td>2902284</td>\n",
              "      <td>3132</td>\n",
              "    </tr>\n",
              "    <tr>\n",
              "      <th>Sardegna</th>\n",
              "      <td>2751776</td>\n",
              "      <td>5100</td>\n",
              "    </tr>\n",
              "    <tr>\n",
              "      <th>Liguria</th>\n",
              "      <td>2547002</td>\n",
              "      <td>1708</td>\n",
              "    </tr>\n",
              "    <tr>\n",
              "      <th>Marche</th>\n",
              "      <td>2507456</td>\n",
              "      <td>1309</td>\n",
              "    </tr>\n",
              "    <tr>\n",
              "      <th>Abruzzo</th>\n",
              "      <td>2267252</td>\n",
              "      <td>2002</td>\n",
              "    </tr>\n",
              "    <tr>\n",
              "      <th>Friuli-Venezia Giulia</th>\n",
              "      <td>2031903</td>\n",
              "      <td>3300</td>\n",
              "    </tr>\n",
              "    <tr>\n",
              "      <th>Umbria</th>\n",
              "      <td>1469397</td>\n",
              "      <td>1470</td>\n",
              "    </tr>\n",
              "    <tr>\n",
              "      <th>Basilicata</th>\n",
              "      <td>936665</td>\n",
              "      <td>1955</td>\n",
              "    </tr>\n",
              "    <tr>\n",
              "      <th>Provincia Autonoma Trento</th>\n",
              "      <td>878910</td>\n",
              "      <td>420</td>\n",
              "    </tr>\n",
              "    <tr>\n",
              "      <th>Provincia Autonoma Bolzano / Bozen</th>\n",
              "      <td>793879</td>\n",
              "      <td>516</td>\n",
              "    </tr>\n",
              "    <tr>\n",
              "      <th>Molise</th>\n",
              "      <td>506050</td>\n",
              "      <td>1526</td>\n",
              "    </tr>\n",
              "    <tr>\n",
              "      <th>Valle d'Aosta / Vallée d'Aoste</th>\n",
              "      <td>191150</td>\n",
              "      <td>196</td>\n",
              "    </tr>\n",
              "  </tbody>\n",
              "</table>\n",
              "</div>"
            ],
            "text/plain": [
              "                                    numero_dosi  codice_regione_ISTAT\n",
              "nome_area                                                            \n",
              "Lombardia                              17274689                   792\n",
              "Lazio                                  10332724                 10632\n",
              "Campania                                9179717                  6465\n",
              "Veneto                                  8088672                   955\n",
              "Sicilia                                 7649473                  4408\n",
              "Emilia-Romagna                          7329514                  1680\n",
              "Piemonte                                7131660                   241\n",
              "Puglia                                  6876223                  5904\n",
              "Toscana                                 6257245                  2286\n",
              "Calabria                                2902284                  3132\n",
              "Sardegna                                2751776                  5100\n",
              "Liguria                                 2547002                  1708\n",
              "Marche                                  2507456                  1309\n",
              "Abruzzo                                 2267252                  2002\n",
              "Friuli-Venezia Giulia                   2031903                  3300\n",
              "Umbria                                  1469397                  1470\n",
              "Basilicata                               936665                  1955\n",
              "Provincia Autonoma Trento                878910                   420\n",
              "Provincia Autonoma Bolzano / Bozen       793879                   516\n",
              "Molise                                   506050                  1526\n",
              "Valle d'Aosta / Vallée d'Aoste           191150                   196"
            ]
          },
          "metadata": {},
          "execution_count": 12
        }
      ]
    },
    {
      "cell_type": "markdown",
      "metadata": {
        "id": "5Kj2AIUXBwLF"
      },
      "source": [
        "#1 grafico #Con il metodo axes"
      ]
    },
    {
      "cell_type": "code",
      "metadata": {
        "colab": {
          "base_uri": "https://localhost:8080/",
          "height": 278
        },
        "id": "vj3YFnECBx11",
        "outputId": "b4435da4-bc02-406c-aa21-2f4d2f400877"
      },
      "source": [
        "fig = plt.figure()\n",
        "ax = plt.axes()\n",
        "ax.bar(names, values)\n",
        "plt.show()"
      ],
      "execution_count": null,
      "outputs": [
        {
          "output_type": "display_data",
          "data": {
            "image/png": "[encoded data removed]",
            "text/plain": [
              "<Figure size 432x288 with 1 Axes>"
            ]
          },
          "metadata": {
            "needs_background": "light"
          }
        }
      ]
    },
    {
      "cell_type": "markdown",
      "metadata": {
        "id": "zvZ7-c8pDx_X"
      },
      "source": [
        "2ndo metodo, subplot (restituisce un solo grafico e una sola barra)"
      ]
    },
    {
      "cell_type": "code",
      "metadata": {
        "id": "VLg7gFX_Ds43",
        "colab": {
          "base_uri": "https://localhost:8080/",
          "height": 286
        },
        "outputId": "a81ab77b-2df2-4655-eea7-0da0e149e313"
      },
      "source": [
        "fig.ax = plt.subplot()\n",
        "ax.bar(names,values)"
      ],
      "execution_count": null,
      "outputs": [
        {
          "output_type": "execute_result",
          "data": {
            "text/plain": [
              "<BarContainer object of 21 artists>"
            ]
          },
          "metadata": {},
          "execution_count": 8
        },
        {
          "output_type": "display_data",
          "data": {
            "image/png": "[encoded data removed]",
            "text/plain": [
              "<Figure size 432x288 with 1 Axes>"
            ]
          },
          "metadata": {
            "needs_background": "light"
          }
        }
      ]
    },
    {
      "cell_type": "code",
      "metadata": {
        "colab": {
          "base_uri": "https://localhost:8080/"
        },
        "id": "Nh157Th6EGW2",
        "outputId": "cfc7228c-a526-40f5-ab72-e11d0ff66683"
      },
      "source": [
        "fig.set_figwidth(12)                                      #Regola la larghezza\n",
        "fig.set_figheight(4)                                      #Regola la lunghezza\n",
        "fig.autofmt_xdate(rotation = 90)                          #Regola la rotazione\n",
        "ax.set_ylim([0,2000000])                                  #Regola il limite dei valore che si possono aggiungere\n",
        "ax.set_yticklabels(np.arange(0,20000001,step = 2000000),fontsize = 10)  #Cambia i nomi dei valori\n",
        "ax.set_yticks(np.arange(0,20000001,step = 2000000))       #Cambia la frequenza\n",
        "ax.set_title('Dosi consegnate',fontsize = 20)\n",
        "ax.set_xlabel('Regioni',fontsize = 20)                    \n",
        "ax.set_ylabel('Dosi',fontsize = 20)\n",
        "ax.set_xticklabels(names,fontsize = 10)"
      ],
      "execution_count": null,
      "outputs": [
        {
          "output_type": "execute_result",
          "data": {
            "text/plain": [
              "[Text(0.0, 0, 'Lombardia'),\n",
              " Text(2500000.0, 0, 'Lazio'),\n",
              " Text(5000000.0, 0, 'Campania'),\n",
              " Text(7500000.0, 0, 'Veneto'),\n",
              " Text(10000000.0, 0, 'Sicilia'),\n",
              " Text(12500000.0, 0, 'Emilia-Romagna'),\n",
              " Text(15000000.0, 0, 'Piemonte'),\n",
              " Text(17500000.0, 0, 'Puglia'),\n",
              " Text(20000000.0, 0, 'Toscana'),\n",
              " Text(0, 0, 'Calabria'),\n",
              " Text(0, 0, 'Sardegna'),\n",
              " Text(0, 0, 'Liguria'),\n",
              " Text(0, 0, 'Marche'),\n",
              " Text(0, 0, 'Abruzzo'),\n",
              " Text(0, 0, 'Friuli-Venezia Giulia'),\n",
              " Text(0, 0, 'Umbria'),\n",
              " Text(0, 0, 'Basilicata'),\n",
              " Text(0, 0, 'Provincia Autonoma Trento'),\n",
              " Text(0, 0, 'Provincia Autonoma Bolzano / Bozen'),\n",
              " Text(0, 0, 'Molise'),\n",
              " Text(0, 0, \"Valle d'Aosta / Vallée d'Aoste\")]"
            ]
          },
          "metadata": {},
          "execution_count": 9
        }
      ]
    },
    {
      "cell_type": "code",
      "metadata": {
        "colab": {
          "base_uri": "https://localhost:8080/",
          "height": 460
        },
        "id": "9flmv6bzEBuG",
        "outputId": "ac9629f4-734a-4a27-a244-770132a7c669"
      },
      "source": [
        "fig"
      ],
      "execution_count": null,
      "outputs": [
        {
          "output_type": "execute_result",
          "data": {
            "image/png": "[encoded data removed]",
            "text/plain": [
              "<Figure size 864x288 with 1 Axes>"
            ]
          },
          "metadata": {},
          "execution_count": 13
        }
      ]
    }
  ]
}