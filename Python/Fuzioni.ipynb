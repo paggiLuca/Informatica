{
  "nbformat": 4,
  "nbformat_minor": 0,
  "metadata": {
    "colab": {
      "name": "Fuzioni",
      "provenance": [],
      "collapsed_sections": [],
      "include_colab_link": true
    },
    "kernelspec": {
      "name": "python3",
      "display_name": "Python 3"
    },
    "language_info": {
      "name": "python"
    }
  },
  "cells": [
    {
      "cell_type": "markdown",
      "metadata": {
        "id": "view-in-github",
        "colab_type": "text"
      },
      "source": [
        "<a href=\"https://colab.research.google.com/github/paggiLuca/Python/blob/main/Fuzioni.ipynb\" target=\"_parent\"><img src=\"https://colab.research.google.com/assets/colab-badge.svg\" alt=\"Open In Colab\"/></a>"
      ]
    },
    {
      "cell_type": "markdown",
      "metadata": {
        "id": "y2jmLUriz9kY"
      },
      "source": [
        "1. scrivere una funzione chiamata media che dati due numeri restituisca la media. Utilizzare poi la funzione in un programma che acquisisca dall'utente due numeri e calcoli la media"
      ]
    },
    {
      "cell_type": "code",
      "metadata": {
        "id": "TecReXsf3C2L",
        "colab": {
          "base_uri": "https://localhost:8080/"
        },
        "outputId": "dc716f41-5f9a-448d-ba3a-68bc65247783"
      },
      "source": [
        "#Funzione\n",
        "def Media(x,y):\n",
        "  return (x+y)/2 \n",
        "\n",
        "#Programma\n",
        "n1 =int (input(\"inserire 1 numero : \"))\n",
        "n2 =int (input(\"inserire 2 numero : \"))\n",
        "print(Media(n1,n2))\n",
        "\n",
        "media2 = lambda n1,n2 : (n1 + n2)/2\n",
        "print(media2(n1,n2))"
      ],
      "execution_count": null,
      "outputs": [
        {
          "output_type": "stream",
          "name": "stdout",
          "text": [
            "inserire 1 numero : 3\n",
            "inserire 2 numero : 9\n",
            "6.0\n",
            "6.0\n"
          ]
        }
      ]
    },
    {
      "cell_type": "markdown",
      "metadata": {
        "id": "p5LNMCmE75-D"
      },
      "source": [
        "2. scrivere una funzione chiamata piuCorta che date due liste restituisca la lista con meno elementi. Utilizzare poi la funzione in un programma che acquisisca dall'utente due liste e visualizzi gli elementi della lista più corta."
      ]
    },
    {
      "cell_type": "code",
      "metadata": {
        "id": "qEVmN2_u77bI",
        "colab": {
          "base_uri": "https://localhost:8080/"
        },
        "outputId": "de2ec8b1-5be6-4367-e4fa-45a5a6153add"
      },
      "source": [
        "def piuCorta(lst1,lst2):\n",
        "  if len(lst1) < len(lst2):\n",
        "   return lst1\n",
        "  else:\n",
        "   return lst2\n",
        "   \n",
        "l1 = [1,2,3,4]\n",
        "l2 = [1,2,3,4,5,6,7]\n",
        "print(piuCorta(l1,l2))"
      ],
      "execution_count": null,
      "outputs": [
        {
          "output_type": "stream",
          "name": "stdout",
          "text": [
            "[1, 2, 3, 4]\n"
          ]
        }
      ]
    },
    {
      "cell_type": "markdown",
      "metadata": {
        "id": "W_qa32wdf0j2"
      },
      "source": [
        "3. scrivere una funzione chiamata costruisciLista che dati due numeri interi restituisca la lista formata da tutti i numeri interi compresi tra i due numeri dati. Utilizzare poi la funzione in un programma che acquisisca dall'utente due numeri e visualizzi la lista formata da tutti i numeri interi compresi tra i due numeri dati ma a partire dal più grande fino al più piccolo."
      ]
    },
    {
      "cell_type": "code",
      "metadata": {
        "id": "lcAU72Shp53o",
        "colab": {
          "base_uri": "https://localhost:8080/"
        },
        "outputId": "4891c120-8ab8-45c7-ff28-d432dddba064"
      },
      "source": [
        "def costruisciLista(a,b):\n",
        "  lista1 = [i for i in range(a,b,1)]\n",
        "  lista1.reverse()\n",
        "  return lista1\n",
        "  \n",
        "a = int(input(\"inserire il primo numero: \"))\n",
        "b = int(input(\"inserire il secondo numero: \"))\n",
        "print(costruisciLista(a,b))"
      ],
      "execution_count": null,
      "outputs": [
        {
          "output_type": "stream",
          "name": "stdout",
          "text": [
            "inserire il primo numero: 1\n",
            "inserire il secondo numero: 9\n",
            "[8, 7, 6, 5, 4, 3, 2, 1]\n"
          ]
        }
      ]
    },
    {
      "cell_type": "markdown",
      "metadata": {
        "id": "5OLibbuQp7s7"
      },
      "source": [
        "4. scrivere una funzione chiamata valoreAssoluto che dato un numero restituisca il suo valore assoluto. Utilizzare poi questa funzione per determinare il valore assoluto degli elementi di una lista inserita dall'utente.\n"
      ]
    },
    {
      "cell_type": "code",
      "metadata": {
        "id": "YXgGmhnMqAbb"
      },
      "source": [
        "def valoreAssoluto(x):\n",
        "  y = abs(n)\n",
        "\n",
        "lst = [int(n) for n in input(\"inserire numeri\").split()]\n",
        "print(valoreAssoluto(lst))"
      ],
      "execution_count": null,
      "outputs": []
    },
    {
      "cell_type": "markdown",
      "metadata": {
        "id": "aTw5qmOpqArF"
      },
      "source": [
        "5. scrivere una funzione chiamata scambia che data una lista scambi il primo elemento con l'ultimo, il secondo con il penultimo e così via. Utilizzare poi la funzione in un programma che acquisisca dall'utente una lista di 10 elementi e li visualizzi scambiati."
      ]
    },
    {
      "cell_type": "code",
      "metadata": {
        "id": "kCjZjB-pqCjK",
        "colab": {
          "base_uri": "https://localhost:8080/"
        },
        "outputId": "ffd02b95-f517-45a9-e70e-8ce697be3ff4"
      },
      "source": [
        "def scambia(lista):\n",
        "  lista.reverse()\n",
        "  return lista\n",
        "\n",
        "lista2 = [int(n) for n in input(\"inserisci dei numeri: \").split()]\n",
        "print(scambia(lista2))"
      ],
      "execution_count": null,
      "outputs": [
        {
          "output_type": "stream",
          "name": "stdout",
          "text": [
            "inserisci dei numeri: 1 2 3 4 5 6 7 8\n",
            "[8, 7, 6, 5, 4, 3, 2, 1]\n"
          ]
        }
      ]
    },
    {
      "cell_type": "markdown",
      "metadata": {
        "id": "zrHvBHpDqCrn"
      },
      "source": [
        "6. scrivere una funzione lambda che dati due numeri calcoli la loro somma. Utilizzare la funzione in un programma che chieda all'utente due numeri interi e visualizzi la loro somma."
      ]
    },
    {
      "cell_type": "code",
      "metadata": {
        "colab": {
          "base_uri": "https://localhost:8080/"
        },
        "id": "0Tue9iL5qE7b",
        "outputId": "5b28f91c-c425-4188-bb9e-d03bb982a22e"
      },
      "source": [
        "somma = lambda x,y : (x + y)\n",
        "\n",
        "a =int (input(\"inserire primo numero : \"))\n",
        "b =int (input(\"inserire secondo numero : \"))\n",
        "print(somma(a,b))"
      ],
      "execution_count": null,
      "outputs": [
        {
          "output_type": "stream",
          "name": "stdout",
          "text": [
            "inserire primo numero : 4\n",
            "inserire secondo numero : 12\n",
            "16\n"
          ]
        }
      ]
    },
    {
      "cell_type": "markdown",
      "metadata": {
        "id": "UOVo7zs0qFBb"
      },
      "source": [
        "7. scrivere un programma che utilizzi una lambda function per aumentare di 10 unità tutti gli elementi di una lista di interi inserita dall'utente.\n"
      ]
    },
    {
      "cell_type": "code",
      "metadata": {
        "id": "ZzLxb5H6qG0e"
      },
      "source": [
        "somma2 = lambda x : (x +10)\n",
        "\n",
        "\n",
        "print(somma2(x))"
      ],
      "execution_count": null,
      "outputs": []
    },
    {
      "cell_type": "markdown",
      "metadata": {
        "id": "VC83ycKhqG8R"
      },
      "source": [
        "8. scrivere una funzione lambda che sostituisca il valore 0 se il parametro è negativo, il valore del parametro se è positivo. Utilizzare poi la funzione in un programma che chieda all'utente i 10 elementi di una lista e visualizzi la lista con il valore 0 al posto dei numeri negativi."
      ]
    },
    {
      "cell_type": "code",
      "metadata": {
        "id": "zxoV-MBfqJe_"
      },
      "source": [
        ""
      ],
      "execution_count": null,
      "outputs": []
    },
    {
      "cell_type": "markdown",
      "metadata": {
        "id": "6h7se35zqJy6"
      },
      "source": [
        "9. scrivere un programma che calcoli il fattoriale di un numero utilizzando una lambda function. Provare a realizzare una lambda function ricorsiva (per la ricorsione, google it...)"
      ]
    },
    {
      "cell_type": "code",
      "metadata": {
        "id": "hnKfVW_fqL9R",
        "colab": {
          "base_uri": "https://localhost:8080/"
        },
        "outputId": "f839882f-975e-4a18-8888-0b9b5aef9a1c"
      },
      "source": [
        "import math\n",
        "fattoriale = lambda x : math.factorial(x)\n",
        "\n",
        "x = int(input(\"inserire un numero : \"))\n",
        "print(fattoriale(x))"
      ],
      "execution_count": null,
      "outputs": [
        {
          "output_type": "stream",
          "name": "stdout",
          "text": [
            "inserire un numero : 5\n",
            "120\n"
          ]
        }
      ]
    }
  ]
}