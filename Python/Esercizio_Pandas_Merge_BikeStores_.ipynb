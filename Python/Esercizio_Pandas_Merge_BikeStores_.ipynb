{
  "nbformat": 4,
  "nbformat_minor": 0,
  "metadata": {
    "colab": {
      "name": "Esercizio_Pandas_Merge_BikeStores .ipynb",
      "provenance": [],
      "collapsed_sections": [],
      "include_colab_link": true
    },
    "kernelspec": {
      "name": "python3",
      "display_name": "Python 3"
    },
    "language_info": {
      "name": "python"
    }
  },
  "cells": [
    {
      "cell_type": "markdown",
      "metadata": {
        "id": "view-in-github",
        "colab_type": "text"
      },
      "source": [
        "<a href=\"https://colab.research.google.com/github/paggiLuca/Python/blob/main/Esercizio_Pandas_Merge_BikeStores_.ipynb\" target=\"_parent\"><img src=\"https://colab.research.google.com/assets/colab-badge.svg\" alt=\"Open In Colab\"/></a>"
      ]
    },
    {
      "cell_type": "code",
      "metadata": {
        "id": "-48gW0hrL-pf"
      },
      "source": [
        "import pandas as pd\n",
        "import numpy as np\n",
        "import matplotlib.pyplot as plt\n"
      ],
      "execution_count": null,
      "outputs": []
    },
    {
      "cell_type": "code",
      "metadata": {
        "colab": {
          "base_uri": "https://localhost:8080/",
          "height": 269
        },
        "id": "OJp44OzDL1XD",
        "outputId": "c12df0c1-db89-487d-fcfe-6e00e5bf2057"
      },
      "source": [
        "dfCategories = pd.read_excel(\"https://github.com/wtitze/4E/blob/main/BikeStores.xls?raw=true\", sheet_name=\"categories\")\n",
        "dfCategories"
      ],
      "execution_count": null,
      "outputs": [
        {
          "output_type": "execute_result",
          "data": {
            "text/html": [
              "<div>\n",
              "<style scoped>\n",
              "    .dataframe tbody tr th:only-of-type {\n",
              "        vertical-align: middle;\n",
              "    }\n",
              "\n",
              "    .dataframe tbody tr th {\n",
              "        vertical-align: top;\n",
              "    }\n",
              "\n",
              "    .dataframe thead th {\n",
              "        text-align: right;\n",
              "    }\n",
              "</style>\n",
              "<table border=\"1\" class=\"dataframe\">\n",
              "  <thead>\n",
              "    <tr style=\"text-align: right;\">\n",
              "      <th></th>\n",
              "      <th>category_id</th>\n",
              "      <th>category_name</th>\n",
              "    </tr>\n",
              "  </thead>\n",
              "  <tbody>\n",
              "    <tr>\n",
              "      <th>0</th>\n",
              "      <td>1</td>\n",
              "      <td>Children Bicycles</td>\n",
              "    </tr>\n",
              "    <tr>\n",
              "      <th>1</th>\n",
              "      <td>2</td>\n",
              "      <td>Comfort Bicycles</td>\n",
              "    </tr>\n",
              "    <tr>\n",
              "      <th>2</th>\n",
              "      <td>3</td>\n",
              "      <td>Cruisers Bicycles</td>\n",
              "    </tr>\n",
              "    <tr>\n",
              "      <th>3</th>\n",
              "      <td>4</td>\n",
              "      <td>Cyclocross Bicycles</td>\n",
              "    </tr>\n",
              "    <tr>\n",
              "      <th>4</th>\n",
              "      <td>5</td>\n",
              "      <td>Electric Bikes</td>\n",
              "    </tr>\n",
              "    <tr>\n",
              "      <th>5</th>\n",
              "      <td>6</td>\n",
              "      <td>Mountain Bikes</td>\n",
              "    </tr>\n",
              "    <tr>\n",
              "      <th>6</th>\n",
              "      <td>7</td>\n",
              "      <td>Road Bikes</td>\n",
              "    </tr>\n",
              "  </tbody>\n",
              "</table>\n",
              "</div>"
            ],
            "text/plain": [
              "   category_id        category_name\n",
              "0            1    Children Bicycles\n",
              "1            2     Comfort Bicycles\n",
              "2            3    Cruisers Bicycles\n",
              "3            4  Cyclocross Bicycles\n",
              "4            5       Electric Bikes\n",
              "5            6       Mountain Bikes\n",
              "6            7           Road Bikes"
            ]
          },
          "metadata": {},
          "execution_count": 2
        }
      ]
    },
    {
      "cell_type": "code",
      "metadata": {
        "colab": {
          "base_uri": "https://localhost:8080/",
          "height": 332
        },
        "id": "ZDl2KuMiNPRA",
        "outputId": "51a9e96e-628f-4010-b6d1-c0c984b28031"
      },
      "source": [
        "dfBrands = pd.read_excel(\"https://github.com/wtitze/4E/blob/main/BikeStores.xls?raw=true\", sheet_name=\"brands\")\n",
        "dfBrands"
      ],
      "execution_count": null,
      "outputs": [
        {
          "output_type": "execute_result",
          "data": {
            "text/html": [
              "<div>\n",
              "<style scoped>\n",
              "    .dataframe tbody tr th:only-of-type {\n",
              "        vertical-align: middle;\n",
              "    }\n",
              "\n",
              "    .dataframe tbody tr th {\n",
              "        vertical-align: top;\n",
              "    }\n",
              "\n",
              "    .dataframe thead th {\n",
              "        text-align: right;\n",
              "    }\n",
              "</style>\n",
              "<table border=\"1\" class=\"dataframe\">\n",
              "  <thead>\n",
              "    <tr style=\"text-align: right;\">\n",
              "      <th></th>\n",
              "      <th>brand_id</th>\n",
              "      <th>brand_name</th>\n",
              "    </tr>\n",
              "  </thead>\n",
              "  <tbody>\n",
              "    <tr>\n",
              "      <th>0</th>\n",
              "      <td>1</td>\n",
              "      <td>Electra</td>\n",
              "    </tr>\n",
              "    <tr>\n",
              "      <th>1</th>\n",
              "      <td>2</td>\n",
              "      <td>Haro</td>\n",
              "    </tr>\n",
              "    <tr>\n",
              "      <th>2</th>\n",
              "      <td>3</td>\n",
              "      <td>Heller</td>\n",
              "    </tr>\n",
              "    <tr>\n",
              "      <th>3</th>\n",
              "      <td>4</td>\n",
              "      <td>Pure Cycles</td>\n",
              "    </tr>\n",
              "    <tr>\n",
              "      <th>4</th>\n",
              "      <td>5</td>\n",
              "      <td>Ritchey</td>\n",
              "    </tr>\n",
              "    <tr>\n",
              "      <th>5</th>\n",
              "      <td>6</td>\n",
              "      <td>Strider</td>\n",
              "    </tr>\n",
              "    <tr>\n",
              "      <th>6</th>\n",
              "      <td>7</td>\n",
              "      <td>Sun Bicycles</td>\n",
              "    </tr>\n",
              "    <tr>\n",
              "      <th>7</th>\n",
              "      <td>8</td>\n",
              "      <td>Surly</td>\n",
              "    </tr>\n",
              "    <tr>\n",
              "      <th>8</th>\n",
              "      <td>9</td>\n",
              "      <td>Trek</td>\n",
              "    </tr>\n",
              "  </tbody>\n",
              "</table>\n",
              "</div>"
            ],
            "text/plain": [
              "   brand_id    brand_name\n",
              "0         1       Electra\n",
              "1         2          Haro\n",
              "2         3        Heller\n",
              "3         4   Pure Cycles\n",
              "4         5       Ritchey\n",
              "5         6       Strider\n",
              "6         7  Sun Bicycles\n",
              "7         8         Surly\n",
              "8         9          Trek"
            ]
          },
          "metadata": {},
          "execution_count": 3
        }
      ]
    },
    {
      "cell_type": "code",
      "metadata": {
        "colab": {
          "base_uri": "https://localhost:8080/",
          "height": 423
        },
        "id": "xLfpqILGNbQ5",
        "outputId": "fc07b71b-3bf8-41f4-f1b5-835459ef958f"
      },
      "source": [
        "dfProducts = pd.read_excel(\"https://github.com/wtitze/4E/blob/main/BikeStores.xls?raw=true\", sheet_name=\"products\")\n",
        "dfProducts"
      ],
      "execution_count": null,
      "outputs": [
        {
          "output_type": "execute_result",
          "data": {
            "text/html": [
              "<div>\n",
              "<style scoped>\n",
              "    .dataframe tbody tr th:only-of-type {\n",
              "        vertical-align: middle;\n",
              "    }\n",
              "\n",
              "    .dataframe tbody tr th {\n",
              "        vertical-align: top;\n",
              "    }\n",
              "\n",
              "    .dataframe thead th {\n",
              "        text-align: right;\n",
              "    }\n",
              "</style>\n",
              "<table border=\"1\" class=\"dataframe\">\n",
              "  <thead>\n",
              "    <tr style=\"text-align: right;\">\n",
              "      <th></th>\n",
              "      <th>product_id</th>\n",
              "      <th>product_name</th>\n",
              "      <th>brand_id</th>\n",
              "      <th>category_id</th>\n",
              "      <th>model_year</th>\n",
              "      <th>list_price</th>\n",
              "    </tr>\n",
              "  </thead>\n",
              "  <tbody>\n",
              "    <tr>\n",
              "      <th>0</th>\n",
              "      <td>1</td>\n",
              "      <td>Trek 820 - 2016</td>\n",
              "      <td>9</td>\n",
              "      <td>6</td>\n",
              "      <td>2016</td>\n",
              "      <td>379.99</td>\n",
              "    </tr>\n",
              "    <tr>\n",
              "      <th>1</th>\n",
              "      <td>2</td>\n",
              "      <td>Ritchey Timberwolf Frameset - 2016</td>\n",
              "      <td>5</td>\n",
              "      <td>6</td>\n",
              "      <td>2016</td>\n",
              "      <td>749.99</td>\n",
              "    </tr>\n",
              "    <tr>\n",
              "      <th>2</th>\n",
              "      <td>3</td>\n",
              "      <td>Surly Wednesday Frameset - 2016</td>\n",
              "      <td>8</td>\n",
              "      <td>6</td>\n",
              "      <td>2016</td>\n",
              "      <td>999.99</td>\n",
              "    </tr>\n",
              "    <tr>\n",
              "      <th>3</th>\n",
              "      <td>4</td>\n",
              "      <td>Trek Fuel EX 8 29 - 2016</td>\n",
              "      <td>9</td>\n",
              "      <td>6</td>\n",
              "      <td>2016</td>\n",
              "      <td>2899.99</td>\n",
              "    </tr>\n",
              "    <tr>\n",
              "      <th>4</th>\n",
              "      <td>5</td>\n",
              "      <td>Heller Shagamaw Frame - 2016</td>\n",
              "      <td>3</td>\n",
              "      <td>6</td>\n",
              "      <td>2016</td>\n",
              "      <td>1320.99</td>\n",
              "    </tr>\n",
              "    <tr>\n",
              "      <th>...</th>\n",
              "      <td>...</td>\n",
              "      <td>...</td>\n",
              "      <td>...</td>\n",
              "      <td>...</td>\n",
              "      <td>...</td>\n",
              "      <td>...</td>\n",
              "    </tr>\n",
              "    <tr>\n",
              "      <th>316</th>\n",
              "      <td>317</td>\n",
              "      <td>Trek Checkpoint ALR 5 - 2019</td>\n",
              "      <td>9</td>\n",
              "      <td>7</td>\n",
              "      <td>2019</td>\n",
              "      <td>1999.99</td>\n",
              "    </tr>\n",
              "    <tr>\n",
              "      <th>317</th>\n",
              "      <td>318</td>\n",
              "      <td>Trek Checkpoint ALR 5 Women's - 2019</td>\n",
              "      <td>9</td>\n",
              "      <td>7</td>\n",
              "      <td>2019</td>\n",
              "      <td>1999.99</td>\n",
              "    </tr>\n",
              "    <tr>\n",
              "      <th>318</th>\n",
              "      <td>319</td>\n",
              "      <td>Trek Checkpoint SL 5 Women's - 2019</td>\n",
              "      <td>9</td>\n",
              "      <td>7</td>\n",
              "      <td>2019</td>\n",
              "      <td>2799.99</td>\n",
              "    </tr>\n",
              "    <tr>\n",
              "      <th>319</th>\n",
              "      <td>320</td>\n",
              "      <td>Trek Checkpoint SL 6 - 2019</td>\n",
              "      <td>9</td>\n",
              "      <td>7</td>\n",
              "      <td>2019</td>\n",
              "      <td>3799.99</td>\n",
              "    </tr>\n",
              "    <tr>\n",
              "      <th>320</th>\n",
              "      <td>321</td>\n",
              "      <td>Trek Checkpoint ALR Frameset - 2019</td>\n",
              "      <td>9</td>\n",
              "      <td>7</td>\n",
              "      <td>2019</td>\n",
              "      <td>3199.99</td>\n",
              "    </tr>\n",
              "  </tbody>\n",
              "</table>\n",
              "<p>321 rows × 6 columns</p>\n",
              "</div>"
            ],
            "text/plain": [
              "     product_id                          product_name  ...  model_year  list_price\n",
              "0             1                       Trek 820 - 2016  ...        2016      379.99\n",
              "1             2    Ritchey Timberwolf Frameset - 2016  ...        2016      749.99\n",
              "2             3       Surly Wednesday Frameset - 2016  ...        2016      999.99\n",
              "3             4              Trek Fuel EX 8 29 - 2016  ...        2016     2899.99\n",
              "4             5          Heller Shagamaw Frame - 2016  ...        2016     1320.99\n",
              "..          ...                                   ...  ...         ...         ...\n",
              "316         317          Trek Checkpoint ALR 5 - 2019  ...        2019     1999.99\n",
              "317         318  Trek Checkpoint ALR 5 Women's - 2019  ...        2019     1999.99\n",
              "318         319   Trek Checkpoint SL 5 Women's - 2019  ...        2019     2799.99\n",
              "319         320           Trek Checkpoint SL 6 - 2019  ...        2019     3799.99\n",
              "320         321   Trek Checkpoint ALR Frameset - 2019  ...        2019     3199.99\n",
              "\n",
              "[321 rows x 6 columns]"
            ]
          },
          "metadata": {},
          "execution_count": 4
        }
      ]
    },
    {
      "cell_type": "markdown",
      "metadata": {
        "id": "xgZOcZrNP1Uu"
      },
      "source": [
        "1. il catalogo complessivo dei prodotti. Visualizzare il nome del prodotto, il nome della marca e la categoria"
      ]
    },
    {
      "cell_type": "code",
      "metadata": {
        "colab": {
          "base_uri": "https://localhost:8080/",
          "height": 423
        },
        "id": "rE2TSdlkNo4W",
        "outputId": "2d1e60d1-32f6-4dcb-c64d-a4b42edaa18d"
      },
      "source": [
        "df2 = pd.merge(dfProducts, dfCategories, how= \"inner\", on=[\"category_id\"])\n",
        "df2"
      ],
      "execution_count": null,
      "outputs": [
        {
          "output_type": "execute_result",
          "data": {
            "text/html": [
              "<div>\n",
              "<style scoped>\n",
              "    .dataframe tbody tr th:only-of-type {\n",
              "        vertical-align: middle;\n",
              "    }\n",
              "\n",
              "    .dataframe tbody tr th {\n",
              "        vertical-align: top;\n",
              "    }\n",
              "\n",
              "    .dataframe thead th {\n",
              "        text-align: right;\n",
              "    }\n",
              "</style>\n",
              "<table border=\"1\" class=\"dataframe\">\n",
              "  <thead>\n",
              "    <tr style=\"text-align: right;\">\n",
              "      <th></th>\n",
              "      <th>product_id</th>\n",
              "      <th>product_name</th>\n",
              "      <th>brand_id</th>\n",
              "      <th>category_id</th>\n",
              "      <th>model_year</th>\n",
              "      <th>list_price</th>\n",
              "      <th>category_name</th>\n",
              "    </tr>\n",
              "  </thead>\n",
              "  <tbody>\n",
              "    <tr>\n",
              "      <th>0</th>\n",
              "      <td>1</td>\n",
              "      <td>Trek 820 - 2016</td>\n",
              "      <td>9</td>\n",
              "      <td>6</td>\n",
              "      <td>2016</td>\n",
              "      <td>379.99</td>\n",
              "      <td>Mountain Bikes</td>\n",
              "    </tr>\n",
              "    <tr>\n",
              "      <th>1</th>\n",
              "      <td>2</td>\n",
              "      <td>Ritchey Timberwolf Frameset - 2016</td>\n",
              "      <td>5</td>\n",
              "      <td>6</td>\n",
              "      <td>2016</td>\n",
              "      <td>749.99</td>\n",
              "      <td>Mountain Bikes</td>\n",
              "    </tr>\n",
              "    <tr>\n",
              "      <th>2</th>\n",
              "      <td>3</td>\n",
              "      <td>Surly Wednesday Frameset - 2016</td>\n",
              "      <td>8</td>\n",
              "      <td>6</td>\n",
              "      <td>2016</td>\n",
              "      <td>999.99</td>\n",
              "      <td>Mountain Bikes</td>\n",
              "    </tr>\n",
              "    <tr>\n",
              "      <th>3</th>\n",
              "      <td>4</td>\n",
              "      <td>Trek Fuel EX 8 29 - 2016</td>\n",
              "      <td>9</td>\n",
              "      <td>6</td>\n",
              "      <td>2016</td>\n",
              "      <td>2899.99</td>\n",
              "      <td>Mountain Bikes</td>\n",
              "    </tr>\n",
              "    <tr>\n",
              "      <th>4</th>\n",
              "      <td>5</td>\n",
              "      <td>Heller Shagamaw Frame - 2016</td>\n",
              "      <td>3</td>\n",
              "      <td>6</td>\n",
              "      <td>2016</td>\n",
              "      <td>1320.99</td>\n",
              "      <td>Mountain Bikes</td>\n",
              "    </tr>\n",
              "    <tr>\n",
              "      <th>...</th>\n",
              "      <td>...</td>\n",
              "      <td>...</td>\n",
              "      <td>...</td>\n",
              "      <td>...</td>\n",
              "      <td>...</td>\n",
              "      <td>...</td>\n",
              "      <td>...</td>\n",
              "    </tr>\n",
              "    <tr>\n",
              "      <th>316</th>\n",
              "      <td>317</td>\n",
              "      <td>Trek Checkpoint ALR 5 - 2019</td>\n",
              "      <td>9</td>\n",
              "      <td>7</td>\n",
              "      <td>2019</td>\n",
              "      <td>1999.99</td>\n",
              "      <td>Road Bikes</td>\n",
              "    </tr>\n",
              "    <tr>\n",
              "      <th>317</th>\n",
              "      <td>318</td>\n",
              "      <td>Trek Checkpoint ALR 5 Women's - 2019</td>\n",
              "      <td>9</td>\n",
              "      <td>7</td>\n",
              "      <td>2019</td>\n",
              "      <td>1999.99</td>\n",
              "      <td>Road Bikes</td>\n",
              "    </tr>\n",
              "    <tr>\n",
              "      <th>318</th>\n",
              "      <td>319</td>\n",
              "      <td>Trek Checkpoint SL 5 Women's - 2019</td>\n",
              "      <td>9</td>\n",
              "      <td>7</td>\n",
              "      <td>2019</td>\n",
              "      <td>2799.99</td>\n",
              "      <td>Road Bikes</td>\n",
              "    </tr>\n",
              "    <tr>\n",
              "      <th>319</th>\n",
              "      <td>320</td>\n",
              "      <td>Trek Checkpoint SL 6 - 2019</td>\n",
              "      <td>9</td>\n",
              "      <td>7</td>\n",
              "      <td>2019</td>\n",
              "      <td>3799.99</td>\n",
              "      <td>Road Bikes</td>\n",
              "    </tr>\n",
              "    <tr>\n",
              "      <th>320</th>\n",
              "      <td>321</td>\n",
              "      <td>Trek Checkpoint ALR Frameset - 2019</td>\n",
              "      <td>9</td>\n",
              "      <td>7</td>\n",
              "      <td>2019</td>\n",
              "      <td>3199.99</td>\n",
              "      <td>Road Bikes</td>\n",
              "    </tr>\n",
              "  </tbody>\n",
              "</table>\n",
              "<p>321 rows × 7 columns</p>\n",
              "</div>"
            ],
            "text/plain": [
              "     product_id  ...   category_name\n",
              "0             1  ...  Mountain Bikes\n",
              "1             2  ...  Mountain Bikes\n",
              "2             3  ...  Mountain Bikes\n",
              "3             4  ...  Mountain Bikes\n",
              "4             5  ...  Mountain Bikes\n",
              "..          ...  ...             ...\n",
              "316         317  ...      Road Bikes\n",
              "317         318  ...      Road Bikes\n",
              "318         319  ...      Road Bikes\n",
              "319         320  ...      Road Bikes\n",
              "320         321  ...      Road Bikes\n",
              "\n",
              "[321 rows x 7 columns]"
            ]
          },
          "metadata": {},
          "execution_count": 5
        }
      ]
    },
    {
      "cell_type": "code",
      "metadata": {
        "colab": {
          "base_uri": "https://localhost:8080/",
          "height": 423
        },
        "id": "ZEgvFcl0PL-u",
        "outputId": "6a31532e-fd21-4055-d5bd-95f00eae55fa"
      },
      "source": [
        "dfCatalogoComplessivo= pd.merge(df2, dfBrands, how= \"inner\", on= [\"brand_id\"])\n",
        "dfCatalogoComplessivo[[\"product_name\", \"category_name\", \"brand_name\"]]"
      ],
      "execution_count": null,
      "outputs": [
        {
          "output_type": "execute_result",
          "data": {
            "text/html": [
              "<div>\n",
              "<style scoped>\n",
              "    .dataframe tbody tr th:only-of-type {\n",
              "        vertical-align: middle;\n",
              "    }\n",
              "\n",
              "    .dataframe tbody tr th {\n",
              "        vertical-align: top;\n",
              "    }\n",
              "\n",
              "    .dataframe thead th {\n",
              "        text-align: right;\n",
              "    }\n",
              "</style>\n",
              "<table border=\"1\" class=\"dataframe\">\n",
              "  <thead>\n",
              "    <tr style=\"text-align: right;\">\n",
              "      <th></th>\n",
              "      <th>product_name</th>\n",
              "      <th>category_name</th>\n",
              "      <th>brand_name</th>\n",
              "    </tr>\n",
              "  </thead>\n",
              "  <tbody>\n",
              "    <tr>\n",
              "      <th>0</th>\n",
              "      <td>Trek 820 - 2016</td>\n",
              "      <td>Mountain Bikes</td>\n",
              "      <td>Trek</td>\n",
              "    </tr>\n",
              "    <tr>\n",
              "      <th>1</th>\n",
              "      <td>Trek Fuel EX 8 29 - 2016</td>\n",
              "      <td>Mountain Bikes</td>\n",
              "      <td>Trek</td>\n",
              "    </tr>\n",
              "    <tr>\n",
              "      <th>2</th>\n",
              "      <td>Trek Slash 8 27.5 - 2016</td>\n",
              "      <td>Mountain Bikes</td>\n",
              "      <td>Trek</td>\n",
              "    </tr>\n",
              "    <tr>\n",
              "      <th>3</th>\n",
              "      <td>Trek Remedy 29 Carbon Frameset - 2016</td>\n",
              "      <td>Mountain Bikes</td>\n",
              "      <td>Trek</td>\n",
              "    </tr>\n",
              "    <tr>\n",
              "      <th>4</th>\n",
              "      <td>Trek X-Caliber 8 - 2017</td>\n",
              "      <td>Mountain Bikes</td>\n",
              "      <td>Trek</td>\n",
              "    </tr>\n",
              "    <tr>\n",
              "      <th>...</th>\n",
              "      <td>...</td>\n",
              "      <td>...</td>\n",
              "      <td>...</td>\n",
              "    </tr>\n",
              "    <tr>\n",
              "      <th>316</th>\n",
              "      <td>Pure Cycles Western 3-Speed - Women's - 2015/2016</td>\n",
              "      <td>Cruisers Bicycles</td>\n",
              "      <td>Pure Cycles</td>\n",
              "    </tr>\n",
              "    <tr>\n",
              "      <th>317</th>\n",
              "      <td>Pure Cycles William 3-Speed - 2016</td>\n",
              "      <td>Cruisers Bicycles</td>\n",
              "      <td>Pure Cycles</td>\n",
              "    </tr>\n",
              "    <tr>\n",
              "      <th>318</th>\n",
              "      <td>Strider Classic 12 Balance Bike - 2018</td>\n",
              "      <td>Children Bicycles</td>\n",
              "      <td>Strider</td>\n",
              "    </tr>\n",
              "    <tr>\n",
              "      <th>319</th>\n",
              "      <td>Strider Sport 16 - 2018</td>\n",
              "      <td>Children Bicycles</td>\n",
              "      <td>Strider</td>\n",
              "    </tr>\n",
              "    <tr>\n",
              "      <th>320</th>\n",
              "      <td>Strider Strider 20 Sport - 2018</td>\n",
              "      <td>Children Bicycles</td>\n",
              "      <td>Strider</td>\n",
              "    </tr>\n",
              "  </tbody>\n",
              "</table>\n",
              "<p>321 rows × 3 columns</p>\n",
              "</div>"
            ],
            "text/plain": [
              "                                          product_name  ...   brand_name\n",
              "0                                      Trek 820 - 2016  ...         Trek\n",
              "1                             Trek Fuel EX 8 29 - 2016  ...         Trek\n",
              "2                             Trek Slash 8 27.5 - 2016  ...         Trek\n",
              "3                Trek Remedy 29 Carbon Frameset - 2016  ...         Trek\n",
              "4                              Trek X-Caliber 8 - 2017  ...         Trek\n",
              "..                                                 ...  ...          ...\n",
              "316  Pure Cycles Western 3-Speed - Women's - 2015/2016  ...  Pure Cycles\n",
              "317                 Pure Cycles William 3-Speed - 2016  ...  Pure Cycles\n",
              "318             Strider Classic 12 Balance Bike - 2018  ...      Strider\n",
              "319                            Strider Sport 16 - 2018  ...      Strider\n",
              "320                    Strider Strider 20 Sport - 2018  ...      Strider\n",
              "\n",
              "[321 rows x 3 columns]"
            ]
          },
          "metadata": {},
          "execution_count": 6
        }
      ]
    },
    {
      "cell_type": "markdown",
      "metadata": {
        "id": "Ktfwfz8hP35E"
      },
      "source": [
        "2. il numero di prodotti per ogni categoria. Visualizzare i nomi delle categorie e il numero dei prodotti."
      ]
    },
    {
      "cell_type": "code",
      "metadata": {
        "colab": {
          "base_uri": "https://localhost:8080/"
        },
        "id": "YtFBieM1P5sR",
        "outputId": "86fd4fcb-8cd1-41ef-c6e1-3e6141aadded"
      },
      "source": [
        "dfCatalogoComplessivo.groupby(\"category_name\").count()[\"product_name\"]"
      ],
      "execution_count": null,
      "outputs": [
        {
          "output_type": "execute_result",
          "data": {
            "text/plain": [
              "category_name\n",
              "Children Bicycles      59\n",
              "Comfort Bicycles       30\n",
              "Cruisers Bicycles      78\n",
              "Cyclocross Bicycles    10\n",
              "Electric Bikes         24\n",
              "Mountain Bikes         60\n",
              "Road Bikes             60\n",
              "Name: product_name, dtype: int64"
            ]
          },
          "metadata": {},
          "execution_count": 33
        }
      ]
    },
    {
      "cell_type": "markdown",
      "metadata": {
        "id": "zn3fJMWFQgfa"
      },
      "source": [
        "3. il numero di prodotti per ogni marca (brand). Visualizzare i nomi dei brand e il numero di prodotti"
      ]
    },
    {
      "cell_type": "code",
      "metadata": {
        "colab": {
          "base_uri": "https://localhost:8080/"
        },
        "id": "96mNzRS7Qf23",
        "outputId": "0ed584f5-9682-49b1-f9d2-a6f0820a0d70"
      },
      "source": [
        "dfCatalogoComplessivo.groupby(\"brand_name\").count()[\"product_name\"]"
      ],
      "execution_count": null,
      "outputs": [
        {
          "output_type": "execute_result",
          "data": {
            "text/plain": [
              "brand_name\n",
              "Electra         118\n",
              "Haro             10\n",
              "Heller            3\n",
              "Pure Cycles       3\n",
              "Ritchey           1\n",
              "Strider           3\n",
              "Sun Bicycles     23\n",
              "Surly            25\n",
              "Trek            135\n",
              "Name: product_name, dtype: int64"
            ]
          },
          "metadata": {},
          "execution_count": 8
        }
      ]
    },
    {
      "cell_type": "markdown",
      "metadata": {
        "id": "cHRjB1U_Qr2L"
      },
      "source": [
        "4. i nomi dei prodotti della marca Trek"
      ]
    },
    {
      "cell_type": "code",
      "metadata": {
        "colab": {
          "base_uri": "https://localhost:8080/"
        },
        "id": "On4sHA4TQuE4",
        "outputId": "a1a70df0-48ed-4f6d-e36c-a204a8fc3bfe"
      },
      "source": [
        "dfCatalogoComplessivo[dfCatalogoComplessivo[\"brand_name\"] == \"Trek\"][\"product_name\"]"
      ],
      "execution_count": null,
      "outputs": [
        {
          "output_type": "execute_result",
          "data": {
            "text/plain": [
              "0                            Trek 820 - 2016\n",
              "1                   Trek Fuel EX 8 29 - 2016\n",
              "2                   Trek Slash 8 27.5 - 2016\n",
              "3      Trek Remedy 29 Carbon Frameset - 2016\n",
              "4                    Trek X-Caliber 8 - 2017\n",
              "                       ...                  \n",
              "130             Trek Checkpoint ALR 5 - 2019\n",
              "131     Trek Checkpoint ALR 5 Women's - 2019\n",
              "132      Trek Checkpoint SL 5 Women's - 2019\n",
              "133              Trek Checkpoint SL 6 - 2019\n",
              "134      Trek Checkpoint ALR Frameset - 2019\n",
              "Name: product_name, Length: 135, dtype: object"
            ]
          },
          "metadata": {},
          "execution_count": 9
        }
      ]
    },
    {
      "cell_type": "markdown",
      "metadata": {
        "id": "1lBW3eMoRGWm"
      },
      "source": [
        "5. i prodotti delle categorie che hanno la parola 'Bikes' nel nome"
      ]
    },
    {
      "cell_type": "code",
      "metadata": {
        "colab": {
          "base_uri": "https://localhost:8080/",
          "height": 423
        },
        "id": "2YKQ5VWxRIKL",
        "outputId": "ff3a23db-1c62-4449-8064-aa6b7eff63ec"
      },
      "source": [
        "dfCatalogoComplessivo[dfCatalogoComplessivo[\"category_name\"].str.contains(\"Bikes\")][[\"product_name\", \"category_name\"]]\n",
        "#ho preso anche category_name per verificare se effetivamente ci fosse \"Bikes\" nel nome"
      ],
      "execution_count": null,
      "outputs": [
        {
          "output_type": "execute_result",
          "data": {
            "text/html": [
              "<div>\n",
              "<style scoped>\n",
              "    .dataframe tbody tr th:only-of-type {\n",
              "        vertical-align: middle;\n",
              "    }\n",
              "\n",
              "    .dataframe tbody tr th {\n",
              "        vertical-align: top;\n",
              "    }\n",
              "\n",
              "    .dataframe thead th {\n",
              "        text-align: right;\n",
              "    }\n",
              "</style>\n",
              "<table border=\"1\" class=\"dataframe\">\n",
              "  <thead>\n",
              "    <tr style=\"text-align: right;\">\n",
              "      <th></th>\n",
              "      <th>product_name</th>\n",
              "      <th>category_name</th>\n",
              "    </tr>\n",
              "  </thead>\n",
              "  <tbody>\n",
              "    <tr>\n",
              "      <th>0</th>\n",
              "      <td>Trek 820 - 2016</td>\n",
              "      <td>Mountain Bikes</td>\n",
              "    </tr>\n",
              "    <tr>\n",
              "      <th>1</th>\n",
              "      <td>Trek Fuel EX 8 29 - 2016</td>\n",
              "      <td>Mountain Bikes</td>\n",
              "    </tr>\n",
              "    <tr>\n",
              "      <th>2</th>\n",
              "      <td>Trek Slash 8 27.5 - 2016</td>\n",
              "      <td>Mountain Bikes</td>\n",
              "    </tr>\n",
              "    <tr>\n",
              "      <th>3</th>\n",
              "      <td>Trek Remedy 29 Carbon Frameset - 2016</td>\n",
              "      <td>Mountain Bikes</td>\n",
              "    </tr>\n",
              "    <tr>\n",
              "      <th>4</th>\n",
              "      <td>Trek X-Caliber 8 - 2017</td>\n",
              "      <td>Mountain Bikes</td>\n",
              "    </tr>\n",
              "    <tr>\n",
              "      <th>...</th>\n",
              "      <td>...</td>\n",
              "      <td>...</td>\n",
              "    </tr>\n",
              "    <tr>\n",
              "      <th>197</th>\n",
              "      <td>Electra Loft Go! 8i - 2018</td>\n",
              "      <td>Electric Bikes</td>\n",
              "    </tr>\n",
              "    <tr>\n",
              "      <th>198</th>\n",
              "      <td>Electra Townie Go! 8i - 2017/2018</td>\n",
              "      <td>Electric Bikes</td>\n",
              "    </tr>\n",
              "    <tr>\n",
              "      <th>199</th>\n",
              "      <td>Electra Townie Go! 8i Ladies' - 2018</td>\n",
              "      <td>Electric Bikes</td>\n",
              "    </tr>\n",
              "    <tr>\n",
              "      <th>200</th>\n",
              "      <td>Electra Townie Commute Go! - 2018</td>\n",
              "      <td>Electric Bikes</td>\n",
              "    </tr>\n",
              "    <tr>\n",
              "      <th>201</th>\n",
              "      <td>Electra Townie Commute Go! Ladies' - 2018</td>\n",
              "      <td>Electric Bikes</td>\n",
              "    </tr>\n",
              "  </tbody>\n",
              "</table>\n",
              "<p>144 rows × 2 columns</p>\n",
              "</div>"
            ],
            "text/plain": [
              "                                  product_name   category_name\n",
              "0                              Trek 820 - 2016  Mountain Bikes\n",
              "1                     Trek Fuel EX 8 29 - 2016  Mountain Bikes\n",
              "2                     Trek Slash 8 27.5 - 2016  Mountain Bikes\n",
              "3        Trek Remedy 29 Carbon Frameset - 2016  Mountain Bikes\n",
              "4                      Trek X-Caliber 8 - 2017  Mountain Bikes\n",
              "..                                         ...             ...\n",
              "197                 Electra Loft Go! 8i - 2018  Electric Bikes\n",
              "198          Electra Townie Go! 8i - 2017/2018  Electric Bikes\n",
              "199       Electra Townie Go! 8i Ladies' - 2018  Electric Bikes\n",
              "200          Electra Townie Commute Go! - 2018  Electric Bikes\n",
              "201  Electra Townie Commute Go! Ladies' - 2018  Electric Bikes\n",
              "\n",
              "[144 rows x 2 columns]"
            ]
          },
          "metadata": {},
          "execution_count": 10
        }
      ]
    },
    {
      "cell_type": "markdown",
      "metadata": {
        "id": "ddrxOWP4Rstm"
      },
      "source": [
        "6. la categoria che ha il prodotto che costa di più"
      ]
    },
    {
      "cell_type": "code",
      "metadata": {
        "id": "SH6tBRhbRuse"
      },
      "source": [
        "dfCatalogoComplessivo[\"list_price\"] = dfCatalogoComplessivo[\"list_price\"].round(1)\n",
        "dfCatalogoComplessivo\n",
        "dfCatalogoComplessivo[\"list_price\"].max()[[\"category_name\"]]\n",
        "#dfCatalogoComplessivo.info()"
      ],
      "execution_count": null,
      "outputs": []
    },
    {
      "cell_type": "markdown",
      "metadata": {
        "id": "c-Vd8Cb-Xbx1"
      },
      "source": [
        "7. i brand con almeno 100 prodotti. Visualizzare il nome del brand e il numero di prodotti"
      ]
    },
    {
      "cell_type": "code",
      "metadata": {
        "colab": {
          "base_uri": "https://localhost:8080/",
          "height": 143
        },
        "id": "Is2ScWuFXa6Q",
        "outputId": "2e0592b9-8f25-41ee-a610-314dfa33791c"
      },
      "source": [
        "df100 = dfCatalogoComplessivo.groupby(\"brand_name\").count()\n",
        "df100[df100[\"product_name\"] > 100][[\"product_name\"]]"
      ],
      "execution_count": null,
      "outputs": [
        {
          "output_type": "execute_result",
          "data": {
            "text/html": [
              "<div>\n",
              "<style scoped>\n",
              "    .dataframe tbody tr th:only-of-type {\n",
              "        vertical-align: middle;\n",
              "    }\n",
              "\n",
              "    .dataframe tbody tr th {\n",
              "        vertical-align: top;\n",
              "    }\n",
              "\n",
              "    .dataframe thead th {\n",
              "        text-align: right;\n",
              "    }\n",
              "</style>\n",
              "<table border=\"1\" class=\"dataframe\">\n",
              "  <thead>\n",
              "    <tr style=\"text-align: right;\">\n",
              "      <th></th>\n",
              "      <th>product_name</th>\n",
              "    </tr>\n",
              "    <tr>\n",
              "      <th>brand_name</th>\n",
              "      <th></th>\n",
              "    </tr>\n",
              "  </thead>\n",
              "  <tbody>\n",
              "    <tr>\n",
              "      <th>Electra</th>\n",
              "      <td>118</td>\n",
              "    </tr>\n",
              "    <tr>\n",
              "      <th>Trek</th>\n",
              "      <td>135</td>\n",
              "    </tr>\n",
              "  </tbody>\n",
              "</table>\n",
              "</div>"
            ],
            "text/plain": [
              "            product_name\n",
              "brand_name              \n",
              "Electra              118\n",
              "Trek                 135"
            ]
          },
          "metadata": {},
          "execution_count": 15
        }
      ]
    },
    {
      "cell_type": "markdown",
      "metadata": {
        "id": "yJawPQ-JYH-s"
      },
      "source": [
        "8. la marca del prodotto 'Electra Townie Original 21D - 2016'"
      ]
    },
    {
      "cell_type": "code",
      "metadata": {
        "colab": {
          "base_uri": "https://localhost:8080/",
          "height": 81
        },
        "id": "TAodyo40YJxH",
        "outputId": "d4501616-a21e-4dd3-c0cc-49a65dfa1afd"
      },
      "source": [
        "#df100.info()\n",
        "#df100[\"product_name\"] = df100[\"product_name\"].astype(str)\n",
        "#df100[df100[\"product_name\"].isin(\"Electra Townie Original 21D - 2016\")]"
      ],
      "execution_count": null,
      "outputs": [
        {
          "output_type": "execute_result",
          "data": {
            "text/html": [
              "<div>\n",
              "<style scoped>\n",
              "    .dataframe tbody tr th:only-of-type {\n",
              "        vertical-align: middle;\n",
              "    }\n",
              "\n",
              "    .dataframe tbody tr th {\n",
              "        vertical-align: top;\n",
              "    }\n",
              "\n",
              "    .dataframe thead th {\n",
              "        text-align: right;\n",
              "    }\n",
              "</style>\n",
              "<table border=\"1\" class=\"dataframe\">\n",
              "  <thead>\n",
              "    <tr style=\"text-align: right;\">\n",
              "      <th></th>\n",
              "      <th>product_id</th>\n",
              "      <th>product_name</th>\n",
              "      <th>brand_id</th>\n",
              "      <th>category_id</th>\n",
              "      <th>model_year</th>\n",
              "      <th>list_price</th>\n",
              "      <th>category_name</th>\n",
              "    </tr>\n",
              "    <tr>\n",
              "      <th>brand_name</th>\n",
              "      <th></th>\n",
              "      <th></th>\n",
              "      <th></th>\n",
              "      <th></th>\n",
              "      <th></th>\n",
              "      <th></th>\n",
              "      <th></th>\n",
              "    </tr>\n",
              "  </thead>\n",
              "  <tbody>\n",
              "  </tbody>\n",
              "</table>\n",
              "</div>"
            ],
            "text/plain": [
              "Empty DataFrame\n",
              "Columns: [product_id, product_name, brand_id, category_id, model_year, list_price, category_name]\n",
              "Index: []"
            ]
          },
          "metadata": {},
          "execution_count": 26
        }
      ]
    },
    {
      "cell_type": "markdown",
      "metadata": {
        "id": "Le_f7vu5ZN9u"
      },
      "source": [
        "9. il numero di prodotti per ogni anno. Visualizzare l'anno e il numero di prodotti"
      ]
    },
    {
      "cell_type": "code",
      "metadata": {
        "colab": {
          "base_uri": "https://localhost:8080/",
          "height": 206
        },
        "id": "QYbYssBpZPnW",
        "outputId": "5150b46f-b88e-4bcc-9756-a03e45f171e2"
      },
      "source": [
        "dfCatalogoComplessivo.groupby(\"model_year\").count()[[\"product_name\"]]"
      ],
      "execution_count": null,
      "outputs": [
        {
          "output_type": "execute_result",
          "data": {
            "text/html": [
              "<div>\n",
              "<style scoped>\n",
              "    .dataframe tbody tr th:only-of-type {\n",
              "        vertical-align: middle;\n",
              "    }\n",
              "\n",
              "    .dataframe tbody tr th {\n",
              "        vertical-align: top;\n",
              "    }\n",
              "\n",
              "    .dataframe thead th {\n",
              "        text-align: right;\n",
              "    }\n",
              "</style>\n",
              "<table border=\"1\" class=\"dataframe\">\n",
              "  <thead>\n",
              "    <tr style=\"text-align: right;\">\n",
              "      <th></th>\n",
              "      <th>product_name</th>\n",
              "    </tr>\n",
              "    <tr>\n",
              "      <th>model_year</th>\n",
              "      <th></th>\n",
              "    </tr>\n",
              "  </thead>\n",
              "  <tbody>\n",
              "    <tr>\n",
              "      <th>2016</th>\n",
              "      <td>26</td>\n",
              "    </tr>\n",
              "    <tr>\n",
              "      <th>2017</th>\n",
              "      <td>85</td>\n",
              "    </tr>\n",
              "    <tr>\n",
              "      <th>2018</th>\n",
              "      <td>204</td>\n",
              "    </tr>\n",
              "    <tr>\n",
              "      <th>2019</th>\n",
              "      <td>6</td>\n",
              "    </tr>\n",
              "  </tbody>\n",
              "</table>\n",
              "</div>"
            ],
            "text/plain": [
              "            product_name\n",
              "model_year              \n",
              "2016                  26\n",
              "2017                  85\n",
              "2018                 204\n",
              "2019                   6"
            ]
          },
          "metadata": {},
          "execution_count": 28
        }
      ]
    },
    {
      "cell_type": "markdown",
      "metadata": {
        "id": "KtMkb1zdZr_4"
      },
      "source": [
        "Visualizzare i grafici più adatti per le richieste 2, 3, 7 e 9"
      ]
    },
    {
      "cell_type": "code",
      "metadata": {
        "colab": {
          "base_uri": "https://localhost:8080/",
          "height": 681
        },
        "id": "JsT1Ej-LZvU2",
        "outputId": "09e2b72a-1cc3-47cb-844c-12f8a90f75c3"
      },
      "source": [
        "#grafico= dfCatalogoComplessivo.groupby(\"category_name\").count()[[\"product_name\"]]\n",
        "\n",
        "x = list(grafico.index)\n",
        "y = list(grafico[\"product_name\"])\n",
        "\n",
        "fig,ax = plt.subplots()\n",
        "fig.set_figwidth(15)\n",
        "fig.set_figheight(10)\n",
        "ax.set_title(\"NUMERO DEI PRODOTTI PER OGNI CATEGORIA\", fontsize=20)\n",
        "ax.set_xlabel(\"NOMI DEI BRAND\", fontsize=15)\n",
        "ax.set_ylabel(\"PRODOTTI\", fontsize=15)\n",
        "fig.autofmt_xdate(rotation=90)\n",
        "ax.bar(x,y)"
      ],
      "execution_count": null,
      "outputs": [
        {
          "output_type": "execute_result",
          "data": {
            "text/plain": [
              "<BarContainer object of 7 artists>"
            ]
          },
          "metadata": {},
          "execution_count": 36
        },
        {
          "output_type": "display_data",
          "data": {
            "image/png": "[encoded data removed]",
            "text/plain": [
              "<Figure size 1080x720 with 1 Axes>"
            ]
          },
          "metadata": {
            "needs_background": "light"
          }
        }
      ]
    },
    {
      "cell_type": "code",
      "metadata": {
        "colab": {
          "base_uri": "https://localhost:8080/",
          "height": 712
        },
        "id": "LoeycxhPagH4",
        "outputId": "4e1ea8f4-5417-4077-958f-128b28ac2b7c"
      },
      "source": [
        "#grafico2 = dfCatalogoComplessivo.groupby(\"brand_name\").count()[[\"product_name\"]]\n",
        "labels = list(grafico2.index)\n",
        "sizes = list(grafico2[\"product_name\"])\n",
        "\n",
        "fig1, ax1 = plt.subplots(figsize=(12, 12))\n",
        "ax1.pie(sizes, labels=labels, autopct='%1.0f%%', startangle=90)\n",
        "plt.title(\"PRODOTTI PER OGNI BRAND\", fontsize= 30 )\n",
        "plt.show()"
      ],
      "execution_count": null,
      "outputs": [
        {
          "output_type": "display_data",
          "data": {
            "image/png": "[encoded data removed]",
            "text/plain": [
              "<Figure size 864x864 with 1 Axes>"
            ]
          },
          "metadata": {}
        }
      ]
    },
    {
      "cell_type": "code",
      "metadata": {
        "colab": {
          "base_uri": "https://localhost:8080/",
          "height": 286
        },
        "id": "nRKXIwaFcZrR",
        "outputId": "04c7f044-bc90-49c4-ca8c-f6fda8a3f436"
      },
      "source": [
        "df100 = dfCatalogoComplessivo.groupby(\"brand_name\").count()\n",
        "df100[df100[\"product_name\"] > 100][[\"product_name\"]]\n",
        "!pip install squarify\n",
        "import squarify\n",
        "\n",
        "sizes = list(df100[\"product_name\"])\n",
        "squarify.plot(sizes)\n",
        "plt.show()\n"
      ],
      "execution_count": null,
      "outputs": [
        {
          "output_type": "stream",
          "name": "stdout",
          "text": [
            "Requirement already satisfied: squarify in /usr/local/lib/python3.7/dist-packages (0.4.3)\n"
          ]
        },
        {
          "output_type": "display_data",
          "data": {
            "image/png": "[encoded data removed]",
            "text/plain": [
              "<Figure size 432x288 with 1 Axes>"
            ]
          },
          "metadata": {
            "needs_background": "light"
          }
        }
      ]
    }
  ]
}